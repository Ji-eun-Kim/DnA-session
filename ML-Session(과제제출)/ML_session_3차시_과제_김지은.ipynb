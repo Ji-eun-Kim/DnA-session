{
 "cells": [
  {
   "cell_type": "markdown",
   "metadata": {},
   "source": [
    "# 과제\n",
    "#### 주어진 데이터는 여러 column 정보를 이용해 자전거의 수요(count)를 예측하는 데이터입니다.  지금까지의 세션에서 알아본 내용을 바탕으로 자유롭게 모델링을 해주세요\n",
    "\n",
    "#### 필수 포함 내용\n",
    "* 오늘 알아본 회귀 모델들 전부 사용(로지스틱 회귀 제외)하고 결과 비교\n",
    "* 규제가 있는 모델의 alpha 파라미터 값 변화에 따른 평가 결과 비교 (단순 값 비교, 시각화 등 자유)\n",
    "* train test 분할은 train_test_split(X_features, y_target, test_size=0.2, random_state=1004)\n",
    "* 평가지표는 RMSE 사용\n",
    "\n",
    "## ++\n",
    "* 본 과제는 성능보다는 오늘 알아본 모델의 사용법을 알아보는데 의의를 두었습니다. 성능이 과제의 점수를 매기진 않지만 전체에서 최고 성능을 낸 분에게 제가 커피를 사 드립니다."
   ]
  },
  {
   "cell_type": "markdown",
   "metadata": {},
   "source": [
    "### 자전거 수요 예측 데이터\n",
    "    * datetime: hourly date + timestamp\n",
    "    * season: 1=봄, 2=여름, 3=가을, 4=겨울\n",
    "    * holiday: 1=주말을 제외한 국경일 등의 휴일, 0=휴일이 아닌 날\n",
    "    * workingday: 1=주말 및 휴일이 아닌 주중, 0=주말 및 휴일\n",
    "    * weather:\n",
    "    * 1=맑음, 약간 구름 낀 흐림\n",
    "    * 2=안개, 안개 + 흐림\n",
    "    * 3=가벼운 눈, 가벼운 비 + 천둥\n",
    "    * 4=심한 눈/비, 천둥/번개\n",
    "    * temp: 온도(섭씨)\n",
    "    * atemp: 체감온도(섭씨)\n",
    "    * humidity: 상대습도\n",
    "    * windspeed: 풍속\n",
    "    * casual: 사전에 등록되지 않은 사용자가 대여한 횟수\n",
    "    * registered: 사전에 등록된 사용자가 대여한 횟수\n",
    "    * count: 대여 횟수 (target)"
   ]
  },
  {
   "cell_type": "code",
   "execution_count": 142,
   "metadata": {},
   "outputs": [],
   "source": [
    "import pandas as pd\n",
    "import numpy as np\n",
    "import matplotlib.pyplot as plt"
   ]
  },
  {
   "cell_type": "code",
   "execution_count": 143,
   "metadata": {},
   "outputs": [],
   "source": [
    "df = pd.read_csv(\"./data/bike.csv\")"
   ]
  },
  {
   "cell_type": "markdown",
   "metadata": {},
   "source": [
    "### 1) 피처 제거 및 추가"
   ]
  },
  {
   "cell_type": "code",
   "execution_count": 144,
   "metadata": {
    "scrolled": true
   },
   "outputs": [],
   "source": [
    "#필요 없는 피처 제거\n",
    "df=df.drop(columns=['windspeed'],axis=1)"
   ]
  },
  {
   "cell_type": "code",
   "execution_count": 145,
   "metadata": {},
   "outputs": [],
   "source": [
    "#datetime 변환\n",
    "df['datetime'] = pd.to_datetime(df['datetime'], format='%Y-%m-%d %H:%M:%S')"
   ]
  },
  {
   "cell_type": "code",
   "execution_count": 146,
   "metadata": {},
   "outputs": [],
   "source": [
    "#시간대 열 추가\n",
    "df.insert(7, 'time',df['datetime'].dt.hour)"
   ]
  },
  {
   "cell_type": "code",
   "execution_count": 147,
   "metadata": {},
   "outputs": [],
   "source": [
    "#datetime 열 삭제\n",
    "df=df.drop(columns=['datetime'],axis=1)"
   ]
  },
  {
   "cell_type": "code",
   "execution_count": 148,
   "metadata": {
    "scrolled": true
   },
   "outputs": [
    {
     "data": {
      "text/html": [
       "<div>\n",
       "<style scoped>\n",
       "    .dataframe tbody tr th:only-of-type {\n",
       "        vertical-align: middle;\n",
       "    }\n",
       "\n",
       "    .dataframe tbody tr th {\n",
       "        vertical-align: top;\n",
       "    }\n",
       "\n",
       "    .dataframe thead th {\n",
       "        text-align: right;\n",
       "    }\n",
       "</style>\n",
       "<table border=\"1\" class=\"dataframe\">\n",
       "  <thead>\n",
       "    <tr style=\"text-align: right;\">\n",
       "      <th></th>\n",
       "      <th>season</th>\n",
       "      <th>holiday</th>\n",
       "      <th>workingday</th>\n",
       "      <th>weather</th>\n",
       "      <th>temp</th>\n",
       "      <th>atemp</th>\n",
       "      <th>time</th>\n",
       "      <th>humidity</th>\n",
       "      <th>casual</th>\n",
       "      <th>registered</th>\n",
       "      <th>count</th>\n",
       "    </tr>\n",
       "  </thead>\n",
       "  <tbody>\n",
       "    <tr>\n",
       "      <th>0</th>\n",
       "      <td>1</td>\n",
       "      <td>0</td>\n",
       "      <td>0</td>\n",
       "      <td>1</td>\n",
       "      <td>9.84</td>\n",
       "      <td>14.395</td>\n",
       "      <td>0</td>\n",
       "      <td>81</td>\n",
       "      <td>3</td>\n",
       "      <td>13</td>\n",
       "      <td>16</td>\n",
       "    </tr>\n",
       "    <tr>\n",
       "      <th>1</th>\n",
       "      <td>1</td>\n",
       "      <td>0</td>\n",
       "      <td>0</td>\n",
       "      <td>1</td>\n",
       "      <td>9.02</td>\n",
       "      <td>13.635</td>\n",
       "      <td>1</td>\n",
       "      <td>80</td>\n",
       "      <td>8</td>\n",
       "      <td>32</td>\n",
       "      <td>40</td>\n",
       "    </tr>\n",
       "    <tr>\n",
       "      <th>2</th>\n",
       "      <td>1</td>\n",
       "      <td>0</td>\n",
       "      <td>0</td>\n",
       "      <td>1</td>\n",
       "      <td>9.02</td>\n",
       "      <td>13.635</td>\n",
       "      <td>2</td>\n",
       "      <td>80</td>\n",
       "      <td>5</td>\n",
       "      <td>27</td>\n",
       "      <td>32</td>\n",
       "    </tr>\n",
       "    <tr>\n",
       "      <th>3</th>\n",
       "      <td>1</td>\n",
       "      <td>0</td>\n",
       "      <td>0</td>\n",
       "      <td>1</td>\n",
       "      <td>9.84</td>\n",
       "      <td>14.395</td>\n",
       "      <td>3</td>\n",
       "      <td>75</td>\n",
       "      <td>3</td>\n",
       "      <td>10</td>\n",
       "      <td>13</td>\n",
       "    </tr>\n",
       "    <tr>\n",
       "      <th>4</th>\n",
       "      <td>1</td>\n",
       "      <td>0</td>\n",
       "      <td>0</td>\n",
       "      <td>1</td>\n",
       "      <td>9.84</td>\n",
       "      <td>14.395</td>\n",
       "      <td>4</td>\n",
       "      <td>75</td>\n",
       "      <td>0</td>\n",
       "      <td>1</td>\n",
       "      <td>1</td>\n",
       "    </tr>\n",
       "    <tr>\n",
       "      <th>...</th>\n",
       "      <td>...</td>\n",
       "      <td>...</td>\n",
       "      <td>...</td>\n",
       "      <td>...</td>\n",
       "      <td>...</td>\n",
       "      <td>...</td>\n",
       "      <td>...</td>\n",
       "      <td>...</td>\n",
       "      <td>...</td>\n",
       "      <td>...</td>\n",
       "      <td>...</td>\n",
       "    </tr>\n",
       "    <tr>\n",
       "      <th>10881</th>\n",
       "      <td>4</td>\n",
       "      <td>0</td>\n",
       "      <td>1</td>\n",
       "      <td>1</td>\n",
       "      <td>15.58</td>\n",
       "      <td>19.695</td>\n",
       "      <td>19</td>\n",
       "      <td>50</td>\n",
       "      <td>7</td>\n",
       "      <td>329</td>\n",
       "      <td>336</td>\n",
       "    </tr>\n",
       "    <tr>\n",
       "      <th>10882</th>\n",
       "      <td>4</td>\n",
       "      <td>0</td>\n",
       "      <td>1</td>\n",
       "      <td>1</td>\n",
       "      <td>14.76</td>\n",
       "      <td>17.425</td>\n",
       "      <td>20</td>\n",
       "      <td>57</td>\n",
       "      <td>10</td>\n",
       "      <td>231</td>\n",
       "      <td>241</td>\n",
       "    </tr>\n",
       "    <tr>\n",
       "      <th>10883</th>\n",
       "      <td>4</td>\n",
       "      <td>0</td>\n",
       "      <td>1</td>\n",
       "      <td>1</td>\n",
       "      <td>13.94</td>\n",
       "      <td>15.910</td>\n",
       "      <td>21</td>\n",
       "      <td>61</td>\n",
       "      <td>4</td>\n",
       "      <td>164</td>\n",
       "      <td>168</td>\n",
       "    </tr>\n",
       "    <tr>\n",
       "      <th>10884</th>\n",
       "      <td>4</td>\n",
       "      <td>0</td>\n",
       "      <td>1</td>\n",
       "      <td>1</td>\n",
       "      <td>13.94</td>\n",
       "      <td>17.425</td>\n",
       "      <td>22</td>\n",
       "      <td>61</td>\n",
       "      <td>12</td>\n",
       "      <td>117</td>\n",
       "      <td>129</td>\n",
       "    </tr>\n",
       "    <tr>\n",
       "      <th>10885</th>\n",
       "      <td>4</td>\n",
       "      <td>0</td>\n",
       "      <td>1</td>\n",
       "      <td>1</td>\n",
       "      <td>13.12</td>\n",
       "      <td>16.665</td>\n",
       "      <td>23</td>\n",
       "      <td>66</td>\n",
       "      <td>4</td>\n",
       "      <td>84</td>\n",
       "      <td>88</td>\n",
       "    </tr>\n",
       "  </tbody>\n",
       "</table>\n",
       "<p>10886 rows × 11 columns</p>\n",
       "</div>"
      ],
      "text/plain": [
       "       season  holiday  workingday  weather   temp   atemp  time  humidity  \\\n",
       "0           1        0           0        1   9.84  14.395     0        81   \n",
       "1           1        0           0        1   9.02  13.635     1        80   \n",
       "2           1        0           0        1   9.02  13.635     2        80   \n",
       "3           1        0           0        1   9.84  14.395     3        75   \n",
       "4           1        0           0        1   9.84  14.395     4        75   \n",
       "...       ...      ...         ...      ...    ...     ...   ...       ...   \n",
       "10881       4        0           1        1  15.58  19.695    19        50   \n",
       "10882       4        0           1        1  14.76  17.425    20        57   \n",
       "10883       4        0           1        1  13.94  15.910    21        61   \n",
       "10884       4        0           1        1  13.94  17.425    22        61   \n",
       "10885       4        0           1        1  13.12  16.665    23        66   \n",
       "\n",
       "       casual  registered  count  \n",
       "0           3          13     16  \n",
       "1           8          32     40  \n",
       "2           5          27     32  \n",
       "3           3          10     13  \n",
       "4           0           1      1  \n",
       "...       ...         ...    ...  \n",
       "10881       7         329    336  \n",
       "10882      10         231    241  \n",
       "10883       4         164    168  \n",
       "10884      12         117    129  \n",
       "10885       4          84     88  \n",
       "\n",
       "[10886 rows x 11 columns]"
      ]
     },
     "execution_count": 148,
     "metadata": {},
     "output_type": "execute_result"
    }
   ],
   "source": [
    "df"
   ]
  },
  {
   "cell_type": "markdown",
   "metadata": {},
   "source": [
    "### 2) 데이터 분리"
   ]
  },
  {
   "cell_type": "code",
   "execution_count": 149,
   "metadata": {},
   "outputs": [],
   "source": [
    "from sklearn.model_selection import train_test_split\n",
    "\n",
    "\n",
    "#타겟 데이터 선정\n",
    "X_features= df.drop(columns='count')\n",
    "y_target=df[['count']]\n",
    "\n",
    "#train, test 분리\n",
    "X_train , X_test, y_train , y_test= train_test_split(X_features, y_target, test_size=0.2, random_state=1004)"
   ]
  },
  {
   "cell_type": "markdown",
   "metadata": {},
   "source": [
    "### 3) feature 생성"
   ]
  },
  {
   "cell_type": "markdown",
   "metadata": {},
   "source": [
    "1) 시간대: 출근시간, 퇴근시간 (7~8시), (5~6시)  \n",
    "2) 계절: 봄, 가을  \n",
    "3) 휴일: 휴일일 때  \n",
    "4) 주중: 두 가지 경우 존재 (주중=> 출퇴근) 주말: 굳  \n",
    "5) 날씨: 맑음  \n",
    "6) 온도: 30도 미만 영하 이상  \n",
    "8) casual, registered, windspeed 삭제  "
   ]
  },
  {
   "cell_type": "code",
   "execution_count": 150,
   "metadata": {
    "scrolled": false
   },
   "outputs": [
    {
     "data": {
      "text/html": [
       "<div>\n",
       "<style scoped>\n",
       "    .dataframe tbody tr th:only-of-type {\n",
       "        vertical-align: middle;\n",
       "    }\n",
       "\n",
       "    .dataframe tbody tr th {\n",
       "        vertical-align: top;\n",
       "    }\n",
       "\n",
       "    .dataframe thead th {\n",
       "        text-align: right;\n",
       "    }\n",
       "</style>\n",
       "<table border=\"1\" class=\"dataframe\">\n",
       "  <thead>\n",
       "    <tr style=\"text-align: right;\">\n",
       "      <th></th>\n",
       "      <th>season</th>\n",
       "      <th>holiday</th>\n",
       "      <th>workingday</th>\n",
       "      <th>weather</th>\n",
       "      <th>temp</th>\n",
       "      <th>atemp</th>\n",
       "      <th>time</th>\n",
       "      <th>humidity</th>\n",
       "      <th>casual</th>\n",
       "      <th>registered</th>\n",
       "    </tr>\n",
       "  </thead>\n",
       "  <tbody>\n",
       "    <tr>\n",
       "      <th>5849</th>\n",
       "      <td>1</td>\n",
       "      <td>0</td>\n",
       "      <td>1</td>\n",
       "      <td>1</td>\n",
       "      <td>7.38</td>\n",
       "      <td>8.335</td>\n",
       "      <td>22</td>\n",
       "      <td>47</td>\n",
       "      <td>4</td>\n",
       "      <td>74</td>\n",
       "    </tr>\n",
       "    <tr>\n",
       "      <th>9779</th>\n",
       "      <td>4</td>\n",
       "      <td>0</td>\n",
       "      <td>1</td>\n",
       "      <td>1</td>\n",
       "      <td>17.22</td>\n",
       "      <td>21.210</td>\n",
       "      <td>20</td>\n",
       "      <td>62</td>\n",
       "      <td>27</td>\n",
       "      <td>388</td>\n",
       "    </tr>\n",
       "    <tr>\n",
       "      <th>429</th>\n",
       "      <td>1</td>\n",
       "      <td>0</td>\n",
       "      <td>1</td>\n",
       "      <td>1</td>\n",
       "      <td>12.30</td>\n",
       "      <td>15.150</td>\n",
       "      <td>22</td>\n",
       "      <td>52</td>\n",
       "      <td>6</td>\n",
       "      <td>53</td>\n",
       "    </tr>\n",
       "    <tr>\n",
       "      <th>1554</th>\n",
       "      <td>2</td>\n",
       "      <td>0</td>\n",
       "      <td>0</td>\n",
       "      <td>1</td>\n",
       "      <td>20.50</td>\n",
       "      <td>24.240</td>\n",
       "      <td>15</td>\n",
       "      <td>77</td>\n",
       "      <td>156</td>\n",
       "      <td>141</td>\n",
       "    </tr>\n",
       "    <tr>\n",
       "      <th>646</th>\n",
       "      <td>1</td>\n",
       "      <td>0</td>\n",
       "      <td>1</td>\n",
       "      <td>2</td>\n",
       "      <td>5.74</td>\n",
       "      <td>6.820</td>\n",
       "      <td>4</td>\n",
       "      <td>59</td>\n",
       "      <td>0</td>\n",
       "      <td>1</td>\n",
       "    </tr>\n",
       "  </tbody>\n",
       "</table>\n",
       "</div>"
      ],
      "text/plain": [
       "      season  holiday  workingday  weather   temp   atemp  time  humidity  \\\n",
       "5849       1        0           1        1   7.38   8.335    22        47   \n",
       "9779       4        0           1        1  17.22  21.210    20        62   \n",
       "429        1        0           1        1  12.30  15.150    22        52   \n",
       "1554       2        0           0        1  20.50  24.240    15        77   \n",
       "646        1        0           1        2   5.74   6.820     4        59   \n",
       "\n",
       "      casual  registered  \n",
       "5849       4          74  \n",
       "9779      27         388  \n",
       "429        6          53  \n",
       "1554     156         141  \n",
       "646        0           1  "
      ]
     },
     "execution_count": 150,
     "metadata": {},
     "output_type": "execute_result"
    }
   ],
   "source": [
    "X_train.head()"
   ]
  },
  {
   "cell_type": "code",
   "execution_count": 151,
   "metadata": {
    "scrolled": true
   },
   "outputs": [
    {
     "name": "stderr",
     "output_type": "stream",
     "text": [
      "<ipython-input-151-4feae97a4d99>:3: SettingWithCopyWarning: \n",
      "A value is trying to be set on a copy of a slice from a DataFrame.\n",
      "Try using .loc[row_indexer,col_indexer] = value instead\n",
      "\n",
      "See the caveats in the documentation: https://pandas.pydata.org/pandas-docs/stable/user_guide/indexing.html#returning-a-view-versus-a-copy\n",
      "  X_train['f1'] = [1 if i == 1 or i==2 else 0 for i in X_train['season']]\n",
      "<ipython-input-151-4feae97a4d99>:4: SettingWithCopyWarning: \n",
      "A value is trying to be set on a copy of a slice from a DataFrame.\n",
      "Try using .loc[row_indexer,col_indexer] = value instead\n",
      "\n",
      "See the caveats in the documentation: https://pandas.pydata.org/pandas-docs/stable/user_guide/indexing.html#returning-a-view-versus-a-copy\n",
      "  X_test['f1'] = [1 if i == 1 or i==2 else 0 for i in X_test['season']]\n"
     ]
    }
   ],
   "source": [
    "#피처 생성\n",
    "#1) 계절이 봄이거나 가을인 경우, 1로 \n",
    "X_train['f1'] = [1 if i == 1 or i==2 else 0 for i in X_train['season']]\n",
    "X_test['f1'] = [1 if i == 1 or i==2 else 0 for i in X_test['season']]"
   ]
  },
  {
   "cell_type": "code",
   "execution_count": 124,
   "metadata": {},
   "outputs": [],
   "source": [
    "#2) 시간대가 (0~5시 새벽인 애들은 0으로 바꿔줌, 나머지는 1로) ->성능 떨어짐\n",
    "#X_train['f2']= [0 if i == 1 or i==2 or i==3 or i==4 or i==5 else 0 for i in X_train['time']]\n",
    "#X_test['f2']= [0 if i == 1 or i==2 or i==3 or i==4 or i==5 else 0 for i in X_test['time']]"
   ]
  },
  {
   "cell_type": "markdown",
   "metadata": {},
   "source": [
    "### 4) modeling\n",
    "\n",
    "1) 선형 회귀 2) 다항 회귀 3) 릿지 4) 라쏘 5) 엘라스틱넷"
   ]
  },
  {
   "cell_type": "code",
   "execution_count": 152,
   "metadata": {},
   "outputs": [],
   "source": [
    "from sklearn.linear_model import LinearRegression, Ridge, Lasso, ElasticNet\n",
    "from sklearn.metrics import mean_squared_error"
   ]
  },
  {
   "cell_type": "code",
   "execution_count": 153,
   "metadata": {},
   "outputs": [
    {
     "name": "stdout",
     "output_type": "stream",
     "text": [
      "MSE : 4.974998152106734e-26\n",
      "RMSE : 2.2304703880811182e-13\n"
     ]
    }
   ],
   "source": [
    "#1) 선형 회귀\n",
    "lin_reg = LinearRegression()\n",
    "lin_reg.fit(X_train, y_train)\n",
    "pred = lin_reg.predict(X_test)\n",
    "\n",
    "MSE = mean_squared_error(y_test, pred) #실제값 , 예측값\n",
    "RMSE = np.sqrt(MSE)\n",
    "\n",
    "print('MSE :', MSE)\n",
    "print('RMSE :', RMSE)"
   ]
  },
  {
   "cell_type": "code",
   "execution_count": 154,
   "metadata": {},
   "outputs": [
    {
     "name": "stdout",
     "output_type": "stream",
     "text": [
      "MSE : 8.86617335193465e-12\n",
      "RMSE : 2.9776120217272514e-06\n"
     ]
    }
   ],
   "source": [
    "#릿지 회귀\n",
    "\n",
    "ridge_reg = Ridge()\n",
    "ridge_reg.fit(X_train, y_train)\n",
    "pred = ridge_reg.predict(X_test)\n",
    "\n",
    "MSE = mean_squared_error(y_test, pred) #실제값 , 예측값\n",
    "RMSE = np.sqrt(MSE)\n",
    "\n",
    "print('MSE :', MSE)\n",
    "print('RMSE :', RMSE)\n"
   ]
  },
  {
   "cell_type": "code",
   "execution_count": 155,
   "metadata": {},
   "outputs": [
    {
     "name": "stdout",
     "output_type": "stream",
     "text": [
      "MSE : 0.00037529225367395684\n",
      "RMSE : 0.01937246121880121\n"
     ]
    }
   ],
   "source": [
    "#라쏘 회귀\n",
    "\n",
    "lasso_reg = Lasso()\n",
    "lasso_reg.fit(X_train, y_train)\n",
    "pred = lasso_reg.predict(X_test)\n",
    "\n",
    "MSE = mean_squared_error(y_test, pred) #실제값 , 예측값\n",
    "RMSE = np.sqrt(MSE)\n",
    "\n",
    "print('MSE :', MSE)\n",
    "print('RMSE :', RMSE)\n"
   ]
  },
  {
   "cell_type": "code",
   "execution_count": 161,
   "metadata": {},
   "outputs": [
    {
     "name": "stdout",
     "output_type": "stream",
     "text": [
      "MSE : 0.00038387999067357437\n",
      "RMSE : 0.019592855602835805\n"
     ]
    }
   ],
   "source": [
    "#일라스틱넷\n",
    "\n",
    "ElasticNet = ElasticNet()\n",
    "ElasticNet.fit(X_train, y_train)\n",
    "\n",
    "pred = ElasticNet.predict(X_test)\n",
    "\n",
    "MSE = mean_squared_error(y_test, pred) #실제값 , 예측값\n",
    "RMSE = np.sqrt(MSE)\n",
    "\n",
    "print('MSE :', MSE)\n",
    "print('RMSE :', RMSE)\n"
   ]
  },
  {
   "cell_type": "markdown",
   "metadata": {},
   "source": [
    "### 5) 규제 (a값에 따른 RMSE 변화)"
   ]
  },
  {
   "cell_type": "code",
   "execution_count": 156,
   "metadata": {},
   "outputs": [],
   "source": [
    "from sklearn.model_selection import cross_val_score"
   ]
  },
  {
   "cell_type": "code",
   "execution_count": 157,
   "metadata": {
    "scrolled": true
   },
   "outputs": [],
   "source": [
    "# alpha값에 따른 회귀 모델의 폴드 평균 RMSE를 출력하고 회귀 계수값들을 DataFrame으로 반환 \n",
    "def get_linear_reg_eval(model_name, params=None, X_data_n=None, y_target_n=None, \n",
    "                        verbose=True, return_coeff=True):\n",
    "    coeff_df = pd.DataFrame()\n",
    "    if verbose : print('####### ', model_name , '#######')\n",
    "    for param in params:\n",
    "        if model_name =='Ridge': model = Ridge(alpha=param)\n",
    "        elif model_name =='Lasso': model = Lasso(alpha=param)\n",
    "        elif model_name =='ElasticNet': model = ElasticNet(alpha=param,l1_ratio=0.7)\n",
    "            \n",
    "        neg_mse_scores = cross_val_score(model, X_data_n, \n",
    "                                             y_target_n, scoring=\"neg_mean_squared_error\", cv = 5)\n",
    "        avg_rmse = np.mean(np.sqrt(-1 * neg_mse_scores))\n",
    "        print('alpha {0}일 때 5 폴드 세트의 평균 RMSE: {1:.3f} '.format(param, avg_rmse))\n",
    "        # cross_val_score는 evaluation metric만 반환하므로 모델을 다시 학습하여 회귀 계수 추출\n",
    "       \n",
    "        model.fit(X_data_n , y_target_n)"
   ]
  },
  {
   "cell_type": "code",
   "execution_count": 158,
   "metadata": {
    "scrolled": false
   },
   "outputs": [
    {
     "name": "stdout",
     "output_type": "stream",
     "text": [
      "#######  Ridge #######\n",
      "alpha 1000일 때 5 폴드 세트의 평균 RMSE: 0.003 \n",
      "alpha 2500일 때 5 폴드 세트의 평균 RMSE: 0.008 \n",
      "alpha 5000일 때 5 폴드 세트의 평균 RMSE: 0.015 \n",
      "alpha 10000일 때 5 폴드 세트의 평균 RMSE: 0.030 \n"
     ]
    }
   ],
   "source": [
    "#ridge model a값 변화에 따른 rmse\n",
    "ridge_alphas = [1000,2500,5000,10000]\n",
    "coeff_ridge_df =get_linear_reg_eval('Ridge', params=ridge_alphas,\n",
    "                                      X_data_n=X_features, y_target_n=y_target)"
   ]
  },
  {
   "cell_type": "code",
   "execution_count": 159,
   "metadata": {},
   "outputs": [
    {
     "name": "stdout",
     "output_type": "stream",
     "text": [
      "#######  Lasso #######\n",
      "alpha 0.1일 때 5 폴드 세트의 평균 RMSE: 0.002 \n",
      "alpha 0.5일 때 5 폴드 세트의 평균 RMSE: 0.012 \n",
      "alpha 1일 때 5 폴드 세트의 평균 RMSE: 0.022 \n",
      "alpha 50일 때 5 폴드 세트의 평균 RMSE: 1.078 \n",
      "alpha 100일 때 5 폴드 세트의 평균 RMSE: 2.157 \n"
     ]
    }
   ],
   "source": [
    "# lasso model a값 변화에 따른 rmse\n",
    "lasso_alphas = [ 0.1,0.5, 1, 50, 100]\n",
    "coeff_lasso_df =get_linear_reg_eval('Lasso', params=lasso_alphas, \n",
    "                                    X_data_n=X_features, y_target_n=y_target)"
   ]
  },
  {
   "cell_type": "code",
   "execution_count": 160,
   "metadata": {},
   "outputs": [
    {
     "name": "stdout",
     "output_type": "stream",
     "text": [
      "#######  ElasticNet #######\n",
      "alpha 0.1일 때 5 폴드 세트의 평균 RMSE: 0.002 \n",
      "alpha 0.5일 때 5 폴드 세트의 평균 RMSE: 0.011 \n",
      "alpha 1일 때 5 폴드 세트의 평균 RMSE: 0.022 \n",
      "alpha 3일 때 5 폴드 세트의 평균 RMSE: 0.065 \n"
     ]
    }
   ],
   "source": [
    "# elastic model a값 변화에 따른 rmse\n",
    "elastic_alphas = [ 0.1, 0.5, 1, 3]\n",
    "coeff_elastic_df =get_linear_reg_eval('ElasticNet', params=elastic_alphas, X_data_n=X_features, y_target_n=y_target)"
   ]
  },
  {
   "cell_type": "markdown",
   "metadata": {},
   "source": [
    "### RMSE"
   ]
  },
  {
   "cell_type": "code",
   "execution_count": 162,
   "metadata": {},
   "outputs": [],
   "source": [
    "def get_rmse(model):\n",
    "    pred = model.predict(X_test)\n",
    "    mse = mean_squared_error(y_test , pred)\n",
    "    rmse = np.sqrt(mse)\n",
    "    print('{0} 로그 변환된 RMSE: {1}'.format(model.__class__.__name__,np.round(rmse, 3)))\n",
    "    return rmse\n",
    "\n",
    "def get_rmses(models):\n",
    "    rmses = [ ]\n",
    "    for model in models:\n",
    "        rmse = get_rmse(model)\n",
    "        rmses.append(rmse)\n",
    "    return rmses"
   ]
  },
  {
   "cell_type": "code",
   "execution_count": 163,
   "metadata": {},
   "outputs": [
    {
     "name": "stdout",
     "output_type": "stream",
     "text": [
      "LinearRegression 로그 변환된 RMSE: 0.0\n",
      "Ridge 로그 변환된 RMSE: 0.0\n",
      "Lasso 로그 변환된 RMSE: 0.019\n",
      "ElasticNet 로그 변환된 RMSE: 0.02\n"
     ]
    },
    {
     "data": {
      "text/plain": [
       "[2.2304703880811182e-13,\n",
       " 2.9776120217272514e-06,\n",
       " 0.01937246121880121,\n",
       " 0.019592855602835805]"
      ]
     },
     "execution_count": 163,
     "metadata": {},
     "output_type": "execute_result"
    }
   ],
   "source": [
    "from sklearn.linear_model import LinearRegression, Ridge, Lasso, ElasticNet\n",
    "from sklearn.model_selection import train_test_split\n",
    "from sklearn.metrics import mean_squared_error\n",
    "\n",
    "# LinearRegression, Ridge, Lasso 학습, 예측, 평가\n",
    "lr_reg = LinearRegression()\n",
    "lr_reg.fit(X_train, y_train)\n",
    "\n",
    "ridge_reg = Ridge()\n",
    "ridge_reg.fit(X_train, y_train)\n",
    "\n",
    "lasso_reg = Lasso()\n",
    "lasso_reg.fit(X_train, y_train)\n",
    "\n",
    "ElasticNet = ElasticNet()\n",
    "ElasticNet.fit(X_train, y_train)\n",
    "\n",
    "models = [lr_reg, ridge_reg, lasso_reg, ElasticNet]\n",
    "get_rmses(models)"
   ]
  }
 ],
 "metadata": {
  "kernelspec": {
   "display_name": "Python 3",
   "language": "python",
   "name": "python3"
  },
  "language_info": {
   "codemirror_mode": {
    "name": "ipython",
    "version": 3
   },
   "file_extension": ".py",
   "mimetype": "text/x-python",
   "name": "python",
   "nbconvert_exporter": "python",
   "pygments_lexer": "ipython3",
   "version": "3.8.5"
  }
 },
 "nbformat": 4,
 "nbformat_minor": 5
}
